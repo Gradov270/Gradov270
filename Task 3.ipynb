{
 "cells": [
  {
   "cell_type": "code",
   "execution_count": 133,
   "metadata": {},
   "outputs": [],
   "source": [
    "import pandas as pd\n",
    "import numpy as np\n",
    "from matplotlib.colors import ListedColormap\n",
    "from sklearn.preprocessing import StandardScaler\n",
    "import matplotlib.pyplot as plt\n",
    "from scipy.spatial.distance import pdist, squareform\n",
    "from scipy.cluster.hierarchy import linkage, dendrogram\n",
    "from sklearn.cluster import AgglomerativeClustering, KMeans\n",
    "from sklearn.metrics import silhouette_samples\n",
    "from matplotlib import cm"
   ]
  },
  {
   "cell_type": "code",
   "execution_count": 134,
   "metadata": {},
   "outputs": [],
   "source": [
    "d = pd.read_excel('claster.xlsx')"
   ]
  },
  {
   "cell_type": "code",
   "execution_count": 196,
   "metadata": {
    "scrolled": true
   },
   "outputs": [
    {
     "data": {
      "text/html": [
       "<div>\n",
       "<style scoped>\n",
       "    .dataframe tbody tr th:only-of-type {\n",
       "        vertical-align: middle;\n",
       "    }\n",
       "\n",
       "    .dataframe tbody tr th {\n",
       "        vertical-align: top;\n",
       "    }\n",
       "\n",
       "    .dataframe thead th {\n",
       "        text-align: right;\n",
       "    }\n",
       "</style>\n",
       "<table border=\"1\" class=\"dataframe\">\n",
       "  <thead>\n",
       "    <tr style=\"text-align: right;\">\n",
       "      <th></th>\n",
       "      <th>Номер</th>\n",
       "      <th>Персона</th>\n",
       "      <th>Возраст, лет</th>\n",
       "      <th>Стаж вождения, лет</th>\n",
       "      <th>Убыточность, %</th>\n",
       "      <th>Уровень заработной платы, руб/год</th>\n",
       "    </tr>\n",
       "  </thead>\n",
       "  <tbody>\n",
       "    <tr>\n",
       "      <th>0</th>\n",
       "      <td>0</td>\n",
       "      <td>6-LLJEH</td>\n",
       "      <td>20</td>\n",
       "      <td>1</td>\n",
       "      <td>263</td>\n",
       "      <td>716693</td>\n",
       "    </tr>\n",
       "    <tr>\n",
       "      <th>1</th>\n",
       "      <td>1</td>\n",
       "      <td>2-GLHFG</td>\n",
       "      <td>74</td>\n",
       "      <td>51</td>\n",
       "      <td>107</td>\n",
       "      <td>274393</td>\n",
       "    </tr>\n",
       "    <tr>\n",
       "      <th>2</th>\n",
       "      <td>2</td>\n",
       "      <td>6-FJFKL</td>\n",
       "      <td>27</td>\n",
       "      <td>1</td>\n",
       "      <td>165</td>\n",
       "      <td>723841</td>\n",
       "    </tr>\n",
       "    <tr>\n",
       "      <th>3</th>\n",
       "      <td>3</td>\n",
       "      <td>4-KJEJL</td>\n",
       "      <td>24</td>\n",
       "      <td>6</td>\n",
       "      <td>348</td>\n",
       "      <td>139419</td>\n",
       "    </tr>\n",
       "    <tr>\n",
       "      <th>4</th>\n",
       "      <td>4</td>\n",
       "      <td>5-JFFGH</td>\n",
       "      <td>26</td>\n",
       "      <td>3</td>\n",
       "      <td>286</td>\n",
       "      <td>650003</td>\n",
       "    </tr>\n",
       "  </tbody>\n",
       "</table>\n",
       "</div>"
      ],
      "text/plain": [
       "   Номер  Персона  Возраст, лет  Стаж вождения, лет  Убыточность, %  \\\n",
       "0      0  6-LLJEH            20                   1             263   \n",
       "1      1  2-GLHFG            74                  51             107   \n",
       "2      2  6-FJFKL            27                   1             165   \n",
       "3      3  4-KJEJL            24                   6             348   \n",
       "4      4  5-JFFGH            26                   3             286   \n",
       "\n",
       "   Уровень заработной платы, руб/год  \n",
       "0                             716693  \n",
       "1                             274393  \n",
       "2                             723841  \n",
       "3                             139419  \n",
       "4                             650003  "
      ]
     },
     "execution_count": 196,
     "metadata": {},
     "output_type": "execute_result"
    }
   ],
   "source": [
    "d.head(5)"
   ]
  },
  {
   "cell_type": "code",
   "execution_count": 136,
   "metadata": {},
   "outputs": [],
   "source": [
    "df = pd.DataFrame(d.iloc[:, 0:], columns=d.columns[2:], index=list(d.iloc[:,0]))"
   ]
  },
  {
   "cell_type": "code",
   "execution_count": 137,
   "metadata": {},
   "outputs": [
    {
     "data": {
      "text/html": [
       "<div>\n",
       "<style scoped>\n",
       "    .dataframe tbody tr th:only-of-type {\n",
       "        vertical-align: middle;\n",
       "    }\n",
       "\n",
       "    .dataframe tbody tr th {\n",
       "        vertical-align: top;\n",
       "    }\n",
       "\n",
       "    .dataframe thead th {\n",
       "        text-align: right;\n",
       "    }\n",
       "</style>\n",
       "<table border=\"1\" class=\"dataframe\">\n",
       "  <thead>\n",
       "    <tr style=\"text-align: right;\">\n",
       "      <th></th>\n",
       "      <th>Возраст, лет</th>\n",
       "      <th>Стаж вождения, лет</th>\n",
       "      <th>Убыточность, %</th>\n",
       "      <th>Уровень заработной платы, руб/год</th>\n",
       "    </tr>\n",
       "  </thead>\n",
       "  <tbody>\n",
       "    <tr>\n",
       "      <th>0</th>\n",
       "      <td>20</td>\n",
       "      <td>1</td>\n",
       "      <td>263</td>\n",
       "      <td>716693</td>\n",
       "    </tr>\n",
       "    <tr>\n",
       "      <th>1</th>\n",
       "      <td>74</td>\n",
       "      <td>51</td>\n",
       "      <td>107</td>\n",
       "      <td>274393</td>\n",
       "    </tr>\n",
       "    <tr>\n",
       "      <th>2</th>\n",
       "      <td>27</td>\n",
       "      <td>1</td>\n",
       "      <td>165</td>\n",
       "      <td>723841</td>\n",
       "    </tr>\n",
       "    <tr>\n",
       "      <th>3</th>\n",
       "      <td>24</td>\n",
       "      <td>6</td>\n",
       "      <td>348</td>\n",
       "      <td>139419</td>\n",
       "    </tr>\n",
       "    <tr>\n",
       "      <th>4</th>\n",
       "      <td>26</td>\n",
       "      <td>3</td>\n",
       "      <td>286</td>\n",
       "      <td>650003</td>\n",
       "    </tr>\n",
       "  </tbody>\n",
       "</table>\n",
       "</div>"
      ],
      "text/plain": [
       "   Возраст, лет  Стаж вождения, лет  Убыточность, %  \\\n",
       "0            20                   1             263   \n",
       "1            74                  51             107   \n",
       "2            27                   1             165   \n",
       "3            24                   6             348   \n",
       "4            26                   3             286   \n",
       "\n",
       "   Уровень заработной платы, руб/год  \n",
       "0                             716693  \n",
       "1                             274393  \n",
       "2                             723841  \n",
       "3                             139419  \n",
       "4                             650003  "
      ]
     },
     "execution_count": 137,
     "metadata": {},
     "output_type": "execute_result"
    }
   ],
   "source": [
    "df.head(5)"
   ]
  },
  {
   "cell_type": "code",
   "execution_count": 138,
   "metadata": {},
   "outputs": [],
   "source": [
    "sc1 = StandardScaler()\n",
    "X1 = df.iloc[:, 0:].values\n",
    "X_train_std1 = sc1.fit_transform(X1)"
   ]
  },
  {
   "cell_type": "code",
   "execution_count": 139,
   "metadata": {},
   "outputs": [],
   "source": [
    "labels1 = list(d['Номер'])"
   ]
  },
  {
   "cell_type": "code",
   "execution_count": 140,
   "metadata": {},
   "outputs": [],
   "source": [
    "row_dist = pd.DataFrame(squareform(pdist(X_train_std1, metric='euclidean')), columns=labels1, index= list(d['Номер']))"
   ]
  },
  {
   "cell_type": "code",
   "execution_count": 141,
   "metadata": {},
   "outputs": [],
   "source": [
    "row_clusters = linkage(pdist(X_train_std1, metric='euclidean'), method='complete')"
   ]
  },
  {
   "cell_type": "code",
   "execution_count": 142,
   "metadata": {},
   "outputs": [
    {
     "data": {
      "image/png": "[encoded data removed]",
      "text/plain": [
       "<Figure size 432x288 with 1 Axes>"
      ]
     },
     "metadata": {
      "needs_background": "light"
     },
     "output_type": "display_data"
    }
   ],
   "source": [
    "row_dendr_transl = dendrogram(row_clusters, orientation='left', labels = list(d['Персона']))\n",
    "plt.tight_layout()\n",
    "plt.xlabel('Евклидово расстояние')\n",
    "plt.show()"
   ]
  },
  {
   "cell_type": "code",
   "execution_count": 143,
   "metadata": {},
   "outputs": [],
   "source": [
    "ac = AgglomerativeClustering(n_clusters = 3, affinity='euclidean', linkage='complete')\n",
    "labels = ac.fit_predict(X_train_std1)"
   ]
  },
  {
   "cell_type": "code",
   "execution_count": 144,
   "metadata": {},
   "outputs": [
    {
     "data": {
      "image/png": "[encoded data removed]",
      "text/plain": [
       "<Figure size 432x288 with 1 Axes>"
      ]
     },
     "metadata": {
      "needs_background": "light"
     },
     "output_type": "display_data"
    }
   ],
   "source": [
    "cluster_labels = np.unique(labels)\n",
    "n_clusters = cluster_labels.shape[0]\n",
    "silhoueette_vals = silhouette_samples(X_train_std1, labels, metric='euclidean')\n",
    "y_ax_lower, y_ax_upper = 0, 0\n",
    "yticks = []\n",
    "for i, c in enumerate(cluster_labels):\n",
    "    c_silhoueette_vals = silhoueette_vals[labels==c]\n",
    "    c_silhoueette_vals.sort()\n",
    "    y_ax_upper += len(c_silhoueette_vals)\n",
    "    color = cm.jet(i/n_clusters)\n",
    "    plt.barh(range(y_ax_lower, y_ax_upper),\n",
    "            c_silhoueette_vals,\n",
    "            height = 1.0,\n",
    "            edgecolor = 'none',\n",
    "            color = color)\n",
    "    yticks.append((y_ax_lower + y_ax_upper)/2)\n",
    "    y_ax_lower += len(c_silhoueette_vals)\n",
    "silhoueette_avg = np.mean(silhoueette_vals)\n",
    "plt.axvline(silhoueette_avg, color='red', linestyle='--')\n",
    "plt.yticks(yticks, cluster_labels + 1)\n",
    "plt.ylabel('Кластер')\n",
    "plt.xlabel('Силуэтный коэффициент')\n",
    "plt.show()"
   ]
  },
  {
   "cell_type": "code",
   "execution_count": 145,
   "metadata": {},
   "outputs": [],
   "source": [
    "def sil_coef(val, d):\n",
    "    df = pd.DataFrame(d.iloc[:, 0:], columns=d.columns[2:], index=list(d.iloc[:,0]))\n",
    "    sc1 = StandardScaler()\n",
    "    X_train_std1 = sc1.fit_transform(df)\n",
    "    ac = AgglomerativeClustering(n_clusters = val, affinity='euclidean', linkage='complete')\n",
    "    labels = ac.fit_predict(X_train_std1)\n",
    "    cluster_labels = np.unique(labels)\n",
    "    n_clusters = val\n",
    "    silhoueette_vals = silhouette_samples(X_train_std1, labels, metric='euclidean')\n",
    "    silhoueette_avg = np.mean(silhoueette_vals)\n",
    "    return silhoueette_avg"
   ]
  },
  {
   "cell_type": "code",
   "execution_count": 152,
   "metadata": {},
   "outputs": [
    {
     "name": "stdout",
     "output_type": "stream",
     "text": [
      "Силуэтный коэффициент - 0.6648792024962414 ; число кластеров - 3"
     ]
    },
    {
     "data": {
      "text/plain": [
       "([<matplotlib.axis.XTick at 0x17186650>,\n",
       "  <matplotlib.axis.XTick at 0x17186df0>,\n",
       "  <matplotlib.axis.XTick at 0x17186e50>,\n",
       "  <matplotlib.axis.XTick at 0x171841d0>],\n",
       " [Text(0, 0, ''), Text(0, 0, ''), Text(0, 0, ''), Text(0, 0, '')])"
      ]
     },
     "execution_count": 152,
     "metadata": {},
     "output_type": "execute_result"
    },
    {
     "data": {
      "image/png": "[encoded data removed]",
      "text/plain": [
       "<Figure size 432x288 with 1 Axes>"
      ]
     },
     "metadata": {
      "needs_background": "light"
     },
     "output_type": "display_data"
    }
   ],
   "source": [
    "x_pl = []\n",
    "y_pl = []\n",
    "for val in range(2, 10, 1):\n",
    "    sil = sil_coef(val, d)\n",
    "    x_pl.append(val)\n",
    "    y_pl.append(sil)\n",
    "print('Силуэтный коэффициент -', max(y_pl), ';', 'число кластеров -', x_pl[y_pl.index(max(y_pl))], end = '')\n",
    "plt.plot(x_pl, y_pl)\n",
    "plt.xlabel('Число кластеров')\n",
    "plt.ylabel('Силуэтный коэффициент')\n",
    "plt.axis([2,9,0,1])\n",
    "plt.xticks(np.arange(2,9,2))"
   ]
  },
  {
   "cell_type": "code",
   "execution_count": 147,
   "metadata": {},
   "outputs": [],
   "source": [
    "km = KMeans(n_clusters=3, init='k-means++', n_init=10, max_iter=300, random_state=0)\n",
    "y_km = km.fit_predict(X_train_std1)"
   ]
  },
  {
   "cell_type": "code",
   "execution_count": 148,
   "metadata": {},
   "outputs": [
    {
     "data": {
      "image/png": "[encoded data removed]",
      "text/plain": [
       "<Figure size 432x288 with 1 Axes>"
      ]
     },
     "metadata": {
      "needs_background": "light"
     },
     "output_type": "display_data"
    }
   ],
   "source": [
    "plt.scatter(X_train_std1[y_km==0,0], X_train_std1[y_km==0,1], s=200, c='lightgreen', marker='s', label='кластер 1')\n",
    "plt.scatter(X_train_std1[y_km==1,0], X_train_std1[y_km==1,1], s=200, c='orange', marker='o', label='кластер 2')\n",
    "plt.scatter(X_train_std1[y_km==2,0], X_train_std1[y_km==2,1], s=200, c='blue', marker='v', label='кластер 3')\n",
    "plt.scatter(km.cluster_centers_[:,0], km.cluster_centers_[:,1], s=50, marker='*', c='red', label='центроиды')\n",
    "plt.legend(loc = 'upper left')\n",
    "plt.grid()\n",
    "plt.show()"
   ]
  },
  {
   "cell_type": "code",
   "execution_count": 149,
   "metadata": {},
   "outputs": [
    {
     "data": {
      "image/png": "[encoded data removed]",
      "text/plain": [
       "<Figure size 432x288 with 1 Axes>"
      ]
     },
     "metadata": {
      "needs_background": "light"
     },
     "output_type": "display_data"
    }
   ],
   "source": [
    "dis = []\n",
    "for i in range(1,11):\n",
    "    km = KMeans(n_clusters=i, init='random', n_init=10, max_iter=300, tol = 10**(-4), random_state=0)\n",
    "    km.fit(X_train_std1)\n",
    "    dis.append(km.inertia_)\n",
    "plt.plot(np.arange(1,11), dis, marker = 'o')\n",
    "plt.xlabel('Число кластеров')\n",
    "plt.ylabel('Искажение')\n",
    "plt.show()"
   ]
  },
  {
   "cell_type": "code",
   "execution_count": 179,
   "metadata": {},
   "outputs": [],
   "source": [
    "string = list(d['Персона'])\n",
    "labels = ac.fit_predict(X_train_std1)\n",
    "claster1 = []\n",
    "claster2 = []\n",
    "claster3 = []\n",
    "for i,j in zip(string, labels):\n",
    "    if j == 0:\n",
    "        t = string.index(i)\n",
    "        claster1.append(t)\n",
    "    elif j == 1:\n",
    "        t = string.index(i)\n",
    "        claster2.append(t)\n",
    "    elif j == 2:\n",
    "        t = string.index(i)\n",
    "        claster3.append(t)\n",
    "new_d1 = pd.DataFrame(d.iloc[claster1, 2:])\n",
    "new_d2 = pd.DataFrame(d.iloc[claster2, 2:])\n",
    "new_d3 = pd.DataFrame(d.iloc[claster3, 2:])"
   ]
  },
  {
   "cell_type": "code",
   "execution_count": 189,
   "metadata": {},
   "outputs": [
    {
     "data": {
      "text/html": [
       "<div>\n",
       "<style scoped>\n",
       "    .dataframe tbody tr th:only-of-type {\n",
       "        vertical-align: middle;\n",
       "    }\n",
       "\n",
       "    .dataframe tbody tr th {\n",
       "        vertical-align: top;\n",
       "    }\n",
       "\n",
       "    .dataframe thead th {\n",
       "        text-align: right;\n",
       "    }\n",
       "</style>\n",
       "<table border=\"1\" class=\"dataframe\">\n",
       "  <thead>\n",
       "    <tr style=\"text-align: right;\">\n",
       "      <th></th>\n",
       "      <th>Возраст, лет</th>\n",
       "      <th>Стаж вождения, лет</th>\n",
       "      <th>Убыточность, %</th>\n",
       "      <th>Уровень заработной платы, руб/год</th>\n",
       "    </tr>\n",
       "  </thead>\n",
       "  <tbody>\n",
       "    <tr>\n",
       "      <th>0</th>\n",
       "      <td>20</td>\n",
       "      <td>1</td>\n",
       "      <td>263</td>\n",
       "      <td>716693</td>\n",
       "    </tr>\n",
       "    <tr>\n",
       "      <th>2</th>\n",
       "      <td>27</td>\n",
       "      <td>1</td>\n",
       "      <td>165</td>\n",
       "      <td>723841</td>\n",
       "    </tr>\n",
       "    <tr>\n",
       "      <th>3</th>\n",
       "      <td>24</td>\n",
       "      <td>6</td>\n",
       "      <td>348</td>\n",
       "      <td>139419</td>\n",
       "    </tr>\n",
       "    <tr>\n",
       "      <th>4</th>\n",
       "      <td>26</td>\n",
       "      <td>3</td>\n",
       "      <td>286</td>\n",
       "      <td>650003</td>\n",
       "    </tr>\n",
       "    <tr>\n",
       "      <th>6</th>\n",
       "      <td>35</td>\n",
       "      <td>10</td>\n",
       "      <td>552</td>\n",
       "      <td>179863</td>\n",
       "    </tr>\n",
       "  </tbody>\n",
       "</table>\n",
       "</div>"
      ],
      "text/plain": [
       "   Возраст, лет  Стаж вождения, лет  Убыточность, %  \\\n",
       "0            20                   1             263   \n",
       "2            27                   1             165   \n",
       "3            24                   6             348   \n",
       "4            26                   3             286   \n",
       "6            35                  10             552   \n",
       "\n",
       "   Уровень заработной платы, руб/год  \n",
       "0                             716693  \n",
       "2                             723841  \n",
       "3                             139419  \n",
       "4                             650003  \n",
       "6                             179863  "
      ]
     },
     "execution_count": 189,
     "metadata": {},
     "output_type": "execute_result"
    }
   ],
   "source": [
    "new_d1.head(5)"
   ]
  },
  {
   "cell_type": "code",
   "execution_count": 190,
   "metadata": {},
   "outputs": [
    {
     "data": {
      "text/html": [
       "<div>\n",
       "<style scoped>\n",
       "    .dataframe tbody tr th:only-of-type {\n",
       "        vertical-align: middle;\n",
       "    }\n",
       "\n",
       "    .dataframe tbody tr th {\n",
       "        vertical-align: top;\n",
       "    }\n",
       "\n",
       "    .dataframe thead th {\n",
       "        text-align: right;\n",
       "    }\n",
       "</style>\n",
       "<table border=\"1\" class=\"dataframe\">\n",
       "  <thead>\n",
       "    <tr style=\"text-align: right;\">\n",
       "      <th></th>\n",
       "      <th>Возраст, лет</th>\n",
       "      <th>Стаж вождения, лет</th>\n",
       "      <th>Убыточность, %</th>\n",
       "      <th>Уровень заработной платы, руб/год</th>\n",
       "    </tr>\n",
       "  </thead>\n",
       "  <tbody>\n",
       "    <tr>\n",
       "      <th>count</th>\n",
       "      <td>242.000000</td>\n",
       "      <td>242.000000</td>\n",
       "      <td>242.000000</td>\n",
       "      <td>242.000000</td>\n",
       "    </tr>\n",
       "    <tr>\n",
       "      <th>mean</th>\n",
       "      <td>27.305785</td>\n",
       "      <td>4.954545</td>\n",
       "      <td>345.082645</td>\n",
       "      <td>424954.450413</td>\n",
       "    </tr>\n",
       "    <tr>\n",
       "      <th>std</th>\n",
       "      <td>4.910558</td>\n",
       "      <td>2.962070</td>\n",
       "      <td>168.115604</td>\n",
       "      <td>279260.886246</td>\n",
       "    </tr>\n",
       "    <tr>\n",
       "      <th>min</th>\n",
       "      <td>20.000000</td>\n",
       "      <td>1.000000</td>\n",
       "      <td>101.000000</td>\n",
       "      <td>120185.000000</td>\n",
       "    </tr>\n",
       "    <tr>\n",
       "      <th>25%</th>\n",
       "      <td>24.000000</td>\n",
       "      <td>2.000000</td>\n",
       "      <td>196.000000</td>\n",
       "      <td>148795.500000</td>\n",
       "    </tr>\n",
       "    <tr>\n",
       "      <th>50%</th>\n",
       "      <td>26.000000</td>\n",
       "      <td>5.000000</td>\n",
       "      <td>301.500000</td>\n",
       "      <td>391223.500000</td>\n",
       "    </tr>\n",
       "    <tr>\n",
       "      <th>75%</th>\n",
       "      <td>30.000000</td>\n",
       "      <td>7.000000</td>\n",
       "      <td>470.250000</td>\n",
       "      <td>692398.250000</td>\n",
       "    </tr>\n",
       "    <tr>\n",
       "      <th>max</th>\n",
       "      <td>38.000000</td>\n",
       "      <td>10.000000</td>\n",
       "      <td>700.000000</td>\n",
       "      <td>799461.000000</td>\n",
       "    </tr>\n",
       "  </tbody>\n",
       "</table>\n",
       "</div>"
      ],
      "text/plain": [
       "       Возраст, лет  Стаж вождения, лет  Убыточность, %  \\\n",
       "count    242.000000          242.000000      242.000000   \n",
       "mean      27.305785            4.954545      345.082645   \n",
       "std        4.910558            2.962070      168.115604   \n",
       "min       20.000000            1.000000      101.000000   \n",
       "25%       24.000000            2.000000      196.000000   \n",
       "50%       26.000000            5.000000      301.500000   \n",
       "75%       30.000000            7.000000      470.250000   \n",
       "max       38.000000           10.000000      700.000000   \n",
       "\n",
       "       Уровень заработной платы, руб/год  \n",
       "count                         242.000000  \n",
       "mean                       424954.450413  \n",
       "std                        279260.886246  \n",
       "min                        120185.000000  \n",
       "25%                        148795.500000  \n",
       "50%                        391223.500000  \n",
       "75%                        692398.250000  \n",
       "max                        799461.000000  "
      ]
     },
     "execution_count": 190,
     "metadata": {},
     "output_type": "execute_result"
    }
   ],
   "source": [
    "new_d1.describe()"
   ]
  },
  {
   "cell_type": "code",
   "execution_count": 191,
   "metadata": {},
   "outputs": [
    {
     "data": {
      "text/html": [
       "<div>\n",
       "<style scoped>\n",
       "    .dataframe tbody tr th:only-of-type {\n",
       "        vertical-align: middle;\n",
       "    }\n",
       "\n",
       "    .dataframe tbody tr th {\n",
       "        vertical-align: top;\n",
       "    }\n",
       "\n",
       "    .dataframe thead th {\n",
       "        text-align: right;\n",
       "    }\n",
       "</style>\n",
       "<table border=\"1\" class=\"dataframe\">\n",
       "  <thead>\n",
       "    <tr style=\"text-align: right;\">\n",
       "      <th></th>\n",
       "      <th>Возраст, лет</th>\n",
       "      <th>Стаж вождения, лет</th>\n",
       "      <th>Убыточность, %</th>\n",
       "      <th>Уровень заработной платы, руб/год</th>\n",
       "    </tr>\n",
       "  </thead>\n",
       "  <tbody>\n",
       "    <tr>\n",
       "      <th>9</th>\n",
       "      <td>47</td>\n",
       "      <td>32</td>\n",
       "      <td>107</td>\n",
       "      <td>2596468</td>\n",
       "    </tr>\n",
       "    <tr>\n",
       "      <th>14</th>\n",
       "      <td>65</td>\n",
       "      <td>33</td>\n",
       "      <td>78</td>\n",
       "      <td>2810439</td>\n",
       "    </tr>\n",
       "    <tr>\n",
       "      <th>26</th>\n",
       "      <td>49</td>\n",
       "      <td>36</td>\n",
       "      <td>37</td>\n",
       "      <td>3373315</td>\n",
       "    </tr>\n",
       "    <tr>\n",
       "      <th>27</th>\n",
       "      <td>64</td>\n",
       "      <td>28</td>\n",
       "      <td>21</td>\n",
       "      <td>2188539</td>\n",
       "    </tr>\n",
       "    <tr>\n",
       "      <th>36</th>\n",
       "      <td>42</td>\n",
       "      <td>37</td>\n",
       "      <td>46</td>\n",
       "      <td>2673344</td>\n",
       "    </tr>\n",
       "  </tbody>\n",
       "</table>\n",
       "</div>"
      ],
      "text/plain": [
       "    Возраст, лет  Стаж вождения, лет  Убыточность, %  \\\n",
       "9             47                  32             107   \n",
       "14            65                  33              78   \n",
       "26            49                  36              37   \n",
       "27            64                  28              21   \n",
       "36            42                  37              46   \n",
       "\n",
       "    Уровень заработной платы, руб/год  \n",
       "9                             2596468  \n",
       "14                            2810439  \n",
       "26                            3373315  \n",
       "27                            2188539  \n",
       "36                            2673344  "
      ]
     },
     "execution_count": 191,
     "metadata": {},
     "output_type": "execute_result"
    }
   ],
   "source": [
    "new_d2.head(5)"
   ]
  },
  {
   "cell_type": "code",
   "execution_count": 192,
   "metadata": {},
   "outputs": [
    {
     "data": {
      "text/html": [
       "<div>\n",
       "<style scoped>\n",
       "    .dataframe tbody tr th:only-of-type {\n",
       "        vertical-align: middle;\n",
       "    }\n",
       "\n",
       "    .dataframe tbody tr th {\n",
       "        vertical-align: top;\n",
       "    }\n",
       "\n",
       "    .dataframe thead th {\n",
       "        text-align: right;\n",
       "    }\n",
       "</style>\n",
       "<table border=\"1\" class=\"dataframe\">\n",
       "  <thead>\n",
       "    <tr style=\"text-align: right;\">\n",
       "      <th></th>\n",
       "      <th>Возраст, лет</th>\n",
       "      <th>Стаж вождения, лет</th>\n",
       "      <th>Убыточность, %</th>\n",
       "      <th>Уровень заработной платы, руб/год</th>\n",
       "    </tr>\n",
       "  </thead>\n",
       "  <tbody>\n",
       "    <tr>\n",
       "      <th>count</th>\n",
       "      <td>121.000000</td>\n",
       "      <td>121.000000</td>\n",
       "      <td>121.000000</td>\n",
       "      <td>1.210000e+02</td>\n",
       "    </tr>\n",
       "    <tr>\n",
       "      <th>mean</th>\n",
       "      <td>56.818182</td>\n",
       "      <td>29.933884</td>\n",
       "      <td>65.752066</td>\n",
       "      <td>2.978736e+06</td>\n",
       "    </tr>\n",
       "    <tr>\n",
       "      <th>std</th>\n",
       "      <td>8.721621</td>\n",
       "      <td>5.832003</td>\n",
       "      <td>25.988549</td>\n",
       "      <td>5.723718e+05</td>\n",
       "    </tr>\n",
       "    <tr>\n",
       "      <th>min</th>\n",
       "      <td>41.000000</td>\n",
       "      <td>20.000000</td>\n",
       "      <td>20.000000</td>\n",
       "      <td>2.040290e+06</td>\n",
       "    </tr>\n",
       "    <tr>\n",
       "      <th>25%</th>\n",
       "      <td>49.000000</td>\n",
       "      <td>25.000000</td>\n",
       "      <td>45.000000</td>\n",
       "      <td>2.475804e+06</td>\n",
       "    </tr>\n",
       "    <tr>\n",
       "      <th>50%</th>\n",
       "      <td>57.000000</td>\n",
       "      <td>30.000000</td>\n",
       "      <td>62.000000</td>\n",
       "      <td>2.911694e+06</td>\n",
       "    </tr>\n",
       "    <tr>\n",
       "      <th>75%</th>\n",
       "      <td>64.000000</td>\n",
       "      <td>35.000000</td>\n",
       "      <td>87.000000</td>\n",
       "      <td>3.494387e+06</td>\n",
       "    </tr>\n",
       "    <tr>\n",
       "      <th>max</th>\n",
       "      <td>71.000000</td>\n",
       "      <td>40.000000</td>\n",
       "      <td>116.000000</td>\n",
       "      <td>3.982828e+06</td>\n",
       "    </tr>\n",
       "  </tbody>\n",
       "</table>\n",
       "</div>"
      ],
      "text/plain": [
       "       Возраст, лет  Стаж вождения, лет  Убыточность, %  \\\n",
       "count    121.000000          121.000000      121.000000   \n",
       "mean      56.818182           29.933884       65.752066   \n",
       "std        8.721621            5.832003       25.988549   \n",
       "min       41.000000           20.000000       20.000000   \n",
       "25%       49.000000           25.000000       45.000000   \n",
       "50%       57.000000           30.000000       62.000000   \n",
       "75%       64.000000           35.000000       87.000000   \n",
       "max       71.000000           40.000000      116.000000   \n",
       "\n",
       "       Уровень заработной платы, руб/год  \n",
       "count                       1.210000e+02  \n",
       "mean                        2.978736e+06  \n",
       "std                         5.723718e+05  \n",
       "min                         2.040290e+06  \n",
       "25%                         2.475804e+06  \n",
       "50%                         2.911694e+06  \n",
       "75%                         3.494387e+06  \n",
       "max                         3.982828e+06  "
      ]
     },
     "execution_count": 192,
     "metadata": {},
     "output_type": "execute_result"
    }
   ],
   "source": [
    "new_d2.describe()"
   ]
  },
  {
   "cell_type": "code",
   "execution_count": 193,
   "metadata": {},
   "outputs": [
    {
     "data": {
      "text/html": [
       "<div>\n",
       "<style scoped>\n",
       "    .dataframe tbody tr th:only-of-type {\n",
       "        vertical-align: middle;\n",
       "    }\n",
       "\n",
       "    .dataframe tbody tr th {\n",
       "        vertical-align: top;\n",
       "    }\n",
       "\n",
       "    .dataframe thead th {\n",
       "        text-align: right;\n",
       "    }\n",
       "</style>\n",
       "<table border=\"1\" class=\"dataframe\">\n",
       "  <thead>\n",
       "    <tr style=\"text-align: right;\">\n",
       "      <th></th>\n",
       "      <th>Возраст, лет</th>\n",
       "      <th>Стаж вождения, лет</th>\n",
       "      <th>Убыточность, %</th>\n",
       "      <th>Уровень заработной платы, руб/год</th>\n",
       "    </tr>\n",
       "  </thead>\n",
       "  <tbody>\n",
       "    <tr>\n",
       "      <th>1</th>\n",
       "      <td>74</td>\n",
       "      <td>51</td>\n",
       "      <td>107</td>\n",
       "      <td>274393</td>\n",
       "    </tr>\n",
       "    <tr>\n",
       "      <th>5</th>\n",
       "      <td>77</td>\n",
       "      <td>56</td>\n",
       "      <td>180</td>\n",
       "      <td>223249</td>\n",
       "    </tr>\n",
       "    <tr>\n",
       "      <th>8</th>\n",
       "      <td>76</td>\n",
       "      <td>55</td>\n",
       "      <td>179</td>\n",
       "      <td>243535</td>\n",
       "    </tr>\n",
       "    <tr>\n",
       "      <th>11</th>\n",
       "      <td>64</td>\n",
       "      <td>40</td>\n",
       "      <td>168</td>\n",
       "      <td>273604</td>\n",
       "    </tr>\n",
       "    <tr>\n",
       "      <th>13</th>\n",
       "      <td>65</td>\n",
       "      <td>43</td>\n",
       "      <td>149</td>\n",
       "      <td>206256</td>\n",
       "    </tr>\n",
       "  </tbody>\n",
       "</table>\n",
       "</div>"
      ],
      "text/plain": [
       "    Возраст, лет  Стаж вождения, лет  Убыточность, %  \\\n",
       "1             74                  51             107   \n",
       "5             77                  56             180   \n",
       "8             76                  55             179   \n",
       "11            64                  40             168   \n",
       "13            65                  43             149   \n",
       "\n",
       "    Уровень заработной платы, руб/год  \n",
       "1                              274393  \n",
       "5                              223249  \n",
       "8                              243535  \n",
       "11                             273604  \n",
       "13                             206256  "
      ]
     },
     "execution_count": 193,
     "metadata": {},
     "output_type": "execute_result"
    }
   ],
   "source": [
    "new_d3.head(5)"
   ]
  },
  {
   "cell_type": "code",
   "execution_count": 194,
   "metadata": {},
   "outputs": [
    {
     "data": {
      "text/html": [
       "<div>\n",
       "<style scoped>\n",
       "    .dataframe tbody tr th:only-of-type {\n",
       "        vertical-align: middle;\n",
       "    }\n",
       "\n",
       "    .dataframe tbody tr th {\n",
       "        vertical-align: top;\n",
       "    }\n",
       "\n",
       "    .dataframe thead th {\n",
       "        text-align: right;\n",
       "    }\n",
       "</style>\n",
       "<table border=\"1\" class=\"dataframe\">\n",
       "  <thead>\n",
       "    <tr style=\"text-align: right;\">\n",
       "      <th></th>\n",
       "      <th>Возраст, лет</th>\n",
       "      <th>Стаж вождения, лет</th>\n",
       "      <th>Убыточность, %</th>\n",
       "      <th>Уровень заработной платы, руб/год</th>\n",
       "    </tr>\n",
       "  </thead>\n",
       "  <tbody>\n",
       "    <tr>\n",
       "      <th>count</th>\n",
       "      <td>121.00000</td>\n",
       "      <td>121.000000</td>\n",
       "      <td>121.000000</td>\n",
       "      <td>121.000000</td>\n",
       "    </tr>\n",
       "    <tr>\n",
       "      <th>mean</th>\n",
       "      <td>69.85124</td>\n",
       "      <td>45.826446</td>\n",
       "      <td>152.380165</td>\n",
       "      <td>242958.446281</td>\n",
       "    </tr>\n",
       "    <tr>\n",
       "      <th>std</th>\n",
       "      <td>5.68721</td>\n",
       "      <td>6.113752</td>\n",
       "      <td>32.875334</td>\n",
       "      <td>24325.309127</td>\n",
       "    </tr>\n",
       "    <tr>\n",
       "      <th>min</th>\n",
       "      <td>59.00000</td>\n",
       "      <td>33.000000</td>\n",
       "      <td>92.000000</td>\n",
       "      <td>200043.000000</td>\n",
       "    </tr>\n",
       "    <tr>\n",
       "      <th>25%</th>\n",
       "      <td>65.00000</td>\n",
       "      <td>42.000000</td>\n",
       "      <td>128.000000</td>\n",
       "      <td>220775.000000</td>\n",
       "    </tr>\n",
       "    <tr>\n",
       "      <th>50%</th>\n",
       "      <td>70.00000</td>\n",
       "      <td>46.000000</td>\n",
       "      <td>153.000000</td>\n",
       "      <td>243203.000000</td>\n",
       "    </tr>\n",
       "    <tr>\n",
       "      <th>75%</th>\n",
       "      <td>74.00000</td>\n",
       "      <td>50.000000</td>\n",
       "      <td>180.000000</td>\n",
       "      <td>267884.000000</td>\n",
       "    </tr>\n",
       "    <tr>\n",
       "      <th>max</th>\n",
       "      <td>79.00000</td>\n",
       "      <td>58.000000</td>\n",
       "      <td>209.000000</td>\n",
       "      <td>279472.000000</td>\n",
       "    </tr>\n",
       "  </tbody>\n",
       "</table>\n",
       "</div>"
      ],
      "text/plain": [
       "       Возраст, лет  Стаж вождения, лет  Убыточность, %  \\\n",
       "count     121.00000          121.000000      121.000000   \n",
       "mean       69.85124           45.826446      152.380165   \n",
       "std         5.68721            6.113752       32.875334   \n",
       "min        59.00000           33.000000       92.000000   \n",
       "25%        65.00000           42.000000      128.000000   \n",
       "50%        70.00000           46.000000      153.000000   \n",
       "75%        74.00000           50.000000      180.000000   \n",
       "max        79.00000           58.000000      209.000000   \n",
       "\n",
       "       Уровень заработной платы, руб/год  \n",
       "count                         121.000000  \n",
       "mean                       242958.446281  \n",
       "std                         24325.309127  \n",
       "min                        200043.000000  \n",
       "25%                        220775.000000  \n",
       "50%                        243203.000000  \n",
       "75%                        267884.000000  \n",
       "max                        279472.000000  "
      ]
     },
     "execution_count": 194,
     "metadata": {},
     "output_type": "execute_result"
    }
   ],
   "source": [
    "new_d3.describe()"
   ]
  }
 ],
 "metadata": {
  "kernelspec": {
   "display_name": "Python 3",
   "language": "python",
   "name": "python3"
  },
  "language_info": {
   "codemirror_mode": {
    "name": "ipython",
    "version": 3
   },
   "file_extension": ".py",
   "mimetype": "text/x-python",
   "name": "python",
   "nbconvert_exporter": "python",
   "pygments_lexer": "ipython3",
   "version": "3.7.0"
  }
 },
 "nbformat": 4,
 "nbformat_minor": 2
}
